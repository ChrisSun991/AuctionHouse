{
 "cells": [
  {
   "cell_type": "code",
   "execution_count": 1,
   "metadata": {
    "collapsed": true
   },
   "outputs": [
    {
     "name": "stdout",
     "output_type": "stream",
     "text": [
      "10|1|SELL|toaster_1|10.00|20\n",
      "12|8|BID|toaster_1|7.50\n",
      "13|5|BID|toaster_1|12.50\n",
      "15|8|SELL|tv_1|250.00|20\n",
      "16\n",
      "17|8|BID|toaster_1|20.00\n",
      "18|1|BID|tv_1|150.00\n",
      "19|3|BID|tv_1|200.00\n",
      "20\n",
      "21|3|BID|tv_1|300.00\n",
      "\n"
     ]
    }
   ],
   "source": [
    "import csv\n",
    "f = open(\"input.txt\") # Default read\n",
    "print(f.read())"
   ]
  },
  {
   "cell_type": "code",
   "execution_count": 2,
   "outputs": [],
   "source": [
    "# Dummy Data classification function to check on input lines\n",
    "def dataClass(data=[]):\n",
    "    print(data)"
   ],
   "metadata": {
    "collapsed": false,
    "pycharm": {
     "name": "#%%\n"
    }
   }
  },
  {
   "cell_type": "code",
   "execution_count": 3,
   "outputs": [
    {
     "name": "stdout",
     "output_type": "stream",
     "text": [
      "['10', '1', 'SELL', 'toaster_1', '10.00', '20']\n",
      "['12', '8', 'BID', 'toaster_1', '7.50']\n",
      "['13', '5', 'BID', 'toaster_1', '12.50']\n",
      "['15', '8', 'SELL', 'tv_1', '250.00', '20']\n",
      "['16']\n",
      "['17', '8', 'BID', 'toaster_1', '20.00']\n",
      "['18', '1', 'BID', 'tv_1', '150.00']\n",
      "['19', '3', 'BID', 'tv_1', '200.00']\n",
      "['20']\n",
      "['21', '3', 'BID', 'tv_1', '300.00']\n"
     ]
    }
   ],
   "source": [
    "#read lines and classify\n",
    "# classify type : Sell Buy Heartbeat\n",
    "def readAndClass(input=\"\"):\n",
    "    with open(file=input, newline='') as csvFile:\n",
    "        csvLines = csv.reader(csvFile, delimiter='|')\n",
    "        list(map(dataClass,csvLines))\n",
    "readAndClass(input=\"input.txt\")"
   ],
   "metadata": {
    "collapsed": false,
    "pycharm": {
     "name": "#%%\n"
    }
   }
  },
  {
   "cell_type": "code",
   "execution_count": 4,
   "outputs": [],
   "source": [
    "from collections import namedtuple\n",
    "bids = namedtuple('bidItems', 'timestamp user_id action item bid_amount')\n",
    "item = namedtuple('items', 'timestamp user_id action item reserve_price close_time')\n",
    "auction_order = []\n",
    "hearbeat = [] #Timestamps"
   ],
   "metadata": {
    "collapsed": false,
    "pycharm": {
     "name": "#%%\n"
    }
   }
  },
  {
   "cell_type": "code",
   "execution_count": 5,
   "outputs": [],
   "source": [
    "# from collections import defaultdict\n",
    "# biddings = defaultdict(list) # create biddings dictionary\n",
    "# items = {} # set to remove any duplicate entries/items\n",
    "# auction_order = []"
   ],
   "metadata": {
    "collapsed": false,
    "pycharm": {
     "name": "#%%\n"
    }
   }
  },
  {
   "cell_type": "code",
   "execution_count": 6,
   "outputs": [],
   "source": [
    "#update data classification function here\n",
    "def dataClass(data=[]):\n",
    "    # print(data)\n",
    "    if len(data) == 1: # heartbeat\n",
    "        hearbeat.append(int(data[0]))\n",
    "        print(\"Heartbeat\")\n",
    "    elif len(data) == 5: # Bid\n",
    "        auction_order.append(bids._make(data)) # generate new bids from data\n",
    "        print(\"Bid\")\n",
    "    elif len(data) == 6: #Sell\n",
    "        auction_order.append(item._make(data)) # generate new item from data\n",
    "        print(\"List\")"
   ],
   "metadata": {
    "collapsed": false,
    "pycharm": {
     "name": "#%%\n"
    }
   }
  },
  {
   "cell_type": "code",
   "execution_count": 7,
   "outputs": [
    {
     "name": "stdout",
     "output_type": "stream",
     "text": [
      "List\n",
      "Bid\n",
      "Bid\n",
      "List\n",
      "Heartbeat\n",
      "Bid\n",
      "Bid\n",
      "Bid\n",
      "Heartbeat\n",
      "Bid\n"
     ]
    }
   ],
   "source": [
    "# test input reading and classification\n",
    "readAndClass(input='input.txt')"
   ],
   "metadata": {
    "collapsed": false,
    "pycharm": {
     "name": "#%%\n"
    }
   }
  },
  {
   "cell_type": "code",
   "execution_count": 8,
   "outputs": [],
   "source": [
    "# After classifying, need to find a solution to process the 'auction_orders' list\n",
    "#before that set a class for auction items\n",
    "class AuctionItems:\n",
    "    def __init__(self, name, data):\n",
    "        self.name = name\n",
    "        self.data = data\n",
    "        self.all_bids = []\n",
    "        self.price_paid = 0.0 #should be the price paid by the auction winner (0.00 if the item is UNSOLD), as a number to two decimal places\n",
    "        self.status = 'UNSOLD' # 'SOLD' or 'UNSOLD depending on auction outcome, default 'UNSOLD'\n",
    "        self.total_bid_count = 0 # number of 'valid' bids received for the item (validity will be addressed later)\n",
    "        self.highest = 0.0 # The highest bid received for the item as a number to 2 dp\n",
    "        self.lowest = 0.0 # The Lowest bid placed on the item as a number to 2 dp\n",
    "        self.bids = namedtuple('bidItems', 'timestamp user_id action item bid_amount')\n",
    "\n",
    "    def get_name(self):\n",
    "        return self.name\n",
    "\n",
    "    def get_data(self):\n",
    "        return self.data\n",
    "\n",
    "    def addAllBids(self, bid):\n",
    "        if isinstance(bid, self.bids):\n",
    "            self.all_bids.append(bid)\n",
    "\n",
    "    def setPricePaid(self,price):\n",
    "        self.price_paid = price\n",
    "\n",
    "    def setHighestBid(self,price):\n",
    "        self.highest = price if price >= self.all_bids[-1] else 0\n",
    "\n",
    "    # def setLowestBid(self, price):\n",
    "    #\n",
    "    #     self.lowest = price if price <= self.lowest else self.lowest\n",
    "\n",
    "    def setStatus(self,status):\n",
    "        if status == 'SOLD' or status == \"UNSOLD\":\n",
    "            self.status = status\n",
    "\n",
    "    def incrementBidCount(self):\n",
    "        self.total_bid_count += 1\n",
    "\n",
    "    def getStatus(self):\n",
    "        return self.status\n",
    "\n",
    "    def get_bids(self):\n",
    "        return self.all_bids\n",
    "\n",
    "    def getFullData(self): #this matches with the output requried\n",
    "        return \"{0}|{1}|{2}|{3}|{4}|{5}|{6}|{7}\".format(self.data.close_time,\n",
    "                                self.name,\n",
    "                                self.data.user_id,\n",
    "                                self.status,\n",
    "                                self.price_paid,\n",
    "                                self.total_bid_count,\n",
    "                                self.highest,\n",
    "                                self.lowest)"
   ],
   "metadata": {
    "collapsed": false,
    "pycharm": {
     "name": "#%%\n"
    }
   }
  },
  {
   "cell_type": "markdown",
   "source": [
    "`close_time` should be a unix epoch of the time the auction finished\n",
    "`item` is the unique string item code.\n",
    "`user_id` is the integer id of the winning user, or blank if the item did not sell.\n",
    "`status` should contain either \"SOLD\" or \"UNSOLD\" depending on the auction outcome.\n",
    "`price_paid` should be the price paid by the auction winner (0.00 if the item is UNSOLD), as a\n",
    "number to two decimal places\n",
    "`total_bid_count` should be the number of valid bids received for the item.\n",
    "'highest_bid' the highest bid received for the item as a number to two decimal places\n",
    "`lowest_bid` the lowest bid placed on the item as a number to two decimal places"
   ],
   "metadata": {
    "collapsed": false
   }
  },
  {
   "cell_type": "code",
   "execution_count": 9,
   "outputs": [
    {
     "name": "stdout",
     "output_type": "stream",
     "text": [
      "item added\n",
      "bid successful\n",
      "bid successful\n",
      "item added\n",
      "bid successful\n",
      "bid successful\n",
      "bid successful\n",
      "bid successful\n"
     ]
    },
    {
     "data": {
      "text/plain": "[None, None, None, None, None, None, None, None]"
     },
     "execution_count": 9,
     "metadata": {},
     "output_type": "execute_result"
    }
   ],
   "source": [
    "#Continuing to process the 'Auction_orders' list\n",
    "all_auction_items = {}\n",
    "closing_times = {}\n",
    "def processOrders(instructions):\n",
    "    if isinstance(instructions, item):\n",
    "        all_auction_items[instructions.item] = AuctionItems(name=instructions.item, data=instructions)\n",
    "        closing_times[instructions.item] = instructions.close_time\n",
    "        print(\"item added\")\n",
    "    elif isinstance(instructions,bids):\n",
    "        price = bids.bid_amount\n",
    "        if instructions.item in all_auction_items.keys():\n",
    "            auction_item = all_auction_items[instructions.item]\n",
    "            bid_instructions = auction_item.all_bids\n",
    "            # try:\n",
    "                #check valid [delete]\n",
    "            if not bid_instructions: # if bid instruction is empty, that means its the first one\n",
    "                auction_item.lowest = price\n",
    "            auction_item.addAllBids(instructions)\n",
    "            auction_item.incrementBidCount()\n",
    "            # except Exception as bidError:\n",
    "            #     print(\"Error when adding bid\")\n",
    "            print(\"bid successful\")\n",
    "        else:\n",
    "            print(\"Item not auctioned yet\")\n",
    "    # Heartbeat to be added afterwards\n",
    "    elif isinstance(instructions,hearbeat):\n",
    "        print(\"heartbeat\")\n",
    "    #     heartbeat = instructions.timestamp\n",
    "    #\n",
    "    else:\n",
    "        print(\"invalid auction instruction\")\n",
    "\n",
    "list(map(processOrders,auction_order))"
   ],
   "metadata": {
    "collapsed": false,
    "pycharm": {
     "name": "#%%\n"
    }
   }
  },
  {
   "cell_type": "code",
   "execution_count": 10,
   "outputs": [],
   "source": [
    "# now check on the following validities:\n",
    "# current timestamp strictly larger than the last one and placed within auctioning time\n",
    "# current bid is strictly greater than the last bid of the item, and the bid is also larger than the reserve bid price\n"
   ],
   "metadata": {
    "collapsed": false,
    "pycharm": {
     "name": "#%%\n"
    }
   }
  },
  {
   "cell_type": "code",
   "execution_count": 11,
   "outputs": [],
   "source": [
    "# current timestamp strictly larger than the last one and placed within auctioning time\n",
    "from decimal import *\n",
    "def checkTime(instr_timestamp, item):\n",
    "    check = True # initialise\n",
    "\n",
    "    #First check the timestamp ( This may be useless but just a precaution check)\n",
    "    if item.all_bids: # if there are existing bids in the list, else skip as theres no point comparing an empty list, it just gives you an error :)\n",
    "        if Decimal(instr_timestamp) > Decimal(item.all_bids[-1].timestamp): #cast to decimal for comparison purposes\n",
    "            check &= True\n",
    "            print(\"Auction instruction placed in a reasonable time\")\n",
    "        else:\n",
    "            check &= False\n",
    "            print(\"Auction instruction NOT placed in a reasonable time\")\n",
    "\n",
    "    # Now check if its within auction time, if its False from the last one, do nothing, its already invalid\n",
    "    if check:\n",
    "        if Decimal(instr_timestamp) < Decimal(item.data.close_time):\n",
    "            check &= True\n",
    "            print(\"Auction instruction is within item close time\")\n",
    "        else:\n",
    "            check &= False\n",
    "            print(\"Auction instruction is out of item close time\")\n",
    "\n",
    "    #Code alternatives : reverse the decimal comparison, and reverse the check &(s) so that else can be removed, same but depends what looks cleaner I guess.\n",
    "\n",
    "    return check"
   ],
   "metadata": {
    "collapsed": false,
    "pycharm": {
     "name": "#%%\n"
    }
   }
  },
  {
   "cell_type": "code",
   "execution_count": 12,
   "outputs": [],
   "source": [
    "# current bid is strictly greater than the last bid of the item, and the bid is also larger than the reserve bid price\n",
    "def checkPrice(price, item):\n",
    "    #check if current bid is strictly greater than the last bid of the item\n",
    "    check = True # initialise\n",
    "    if item.all_bids:\n",
    "        if Decimal(price) > Decimal(item.all_bids[-1].bid_amount):\n",
    "            check &= True\n",
    "            print(\"Price placed is larger than the last bid price\")\n",
    "        else:\n",
    "            check &= False\n",
    "            print(\"Price placed is smaller or equal to the last bid price\")\n",
    "    #the bid is also larger than the reserve bid price\n",
    "    if check:\n",
    "        if Decimal(price) >= Decimal(item.data.reserve_price):\n",
    "            check &= True\n",
    "            print(\"Price is larger than the reserve price\")\n",
    "        else:\n",
    "            check &= False\n",
    "            print(\"Price is smaller than the reserve price\")\n",
    "\n",
    "    return check"
   ],
   "metadata": {
    "collapsed": false,
    "pycharm": {
     "name": "#%%\n"
    }
   }
  },
  {
   "cell_type": "markdown",
   "source": [],
   "metadata": {
    "collapsed": false
   }
  },
  {
   "cell_type": "code",
   "execution_count": 13,
   "outputs": [],
   "source": [
    "def validBidAction(bid):  #'timestamp user_id action item bid_amount'\n",
    "    check = True\n",
    "    if all_auction_items: # if list of items in the auction is not empty\n",
    "        if bid.item in all_auction_items.keys(): # if item is added to the auction already\n",
    "            if checkPrice(bid.bid_amount, all_auction_items[bid.item]) and checkTime(bid.timestamp, all_auction_items[bid.item]):\n",
    "                check &= True\n",
    "                print(\"valid bet\")\n",
    "            else:\n",
    "                check &= False\n",
    "                print(\"invalid price or timestamp\")\n",
    "        else:\n",
    "            print(\"invalid bet, item not in auction\")\n",
    "            check = False\n",
    "    else:\n",
    "        print(\"No items is under auction yet\")\n",
    "        check = False\n",
    "    return check\n"
   ],
   "metadata": {
    "collapsed": false,
    "pycharm": {
     "name": "#%%\n"
    }
   }
  },
  {
   "cell_type": "code",
   "execution_count": null,
   "outputs": [],
   "source": [
    "# One last thing is to deal with the 'heartbeat' element which relates to closing the auction"
   ],
   "metadata": {
    "collapsed": false,
    "pycharm": {
     "name": "#%%\n"
    }
   }
  },
  {
   "cell_type": "code",
   "execution_count": null,
   "outputs": [],
   "source": [
    "def processheartBeats(item_name):\n",
    "    item = all_auction_items[item_name]\n",
    "    if item.all_bids:\n",
    "        if len(item.all_bids) >= 2: #based on example output, we return the 2nd highest bid price\n",
    "            item.setPricePaid(item.all_bids[-2].bid_amount)\n",
    "            # item.setStatus('SOLD')\n",
    "        else:\n",
    "            item.setPricePaid(item.reserve_price)\n",
    "        item.setStatus('SOLD')\n",
    "        print(\"item {0} is sold for {1}\".format(item.name, item.pricePaid))\n",
    "    else:\n",
    "        item.setPricePaid(0.0)\n",
    "        item.setStatus('UNSOLD')\n",
    "        print(\"item {0} is not sold, item is now closed for auction\".format(item.name))\n",
    "\n"
   ],
   "metadata": {
    "collapsed": false,
    "pycharm": {
     "name": "#%%\n"
    }
   }
  },
  {
   "cell_type": "code",
   "execution_count": null,
   "outputs": [],
   "source": [],
   "metadata": {
    "collapsed": false,
    "pycharm": {
     "name": "#%%\n"
    }
   }
  }
 ],
 "metadata": {
  "kernelspec": {
   "display_name": "Python 3",
   "language": "python",
   "name": "python3"
  },
  "language_info": {
   "codemirror_mode": {
    "name": "ipython",
    "version": 2
   },
   "file_extension": ".py",
   "mimetype": "text/x-python",
   "name": "python",
   "nbconvert_exporter": "python",
   "pygments_lexer": "ipython2",
   "version": "2.7.6"
  }
 },
 "nbformat": 4,
 "nbformat_minor": 0
}